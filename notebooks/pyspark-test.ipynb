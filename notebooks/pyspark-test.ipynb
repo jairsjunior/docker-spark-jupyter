{
 "cells": [
  {
   "cell_type": "code",
   "execution_count": null,
   "metadata": {},
   "outputs": [],
   "source": [
    "from pyspark import SparkConf\n",
    "from pyspark import SparkContext \n",
    "\n",
    "conf = SparkConf()\n",
    "conf.setMaster('yarn')\n",
    "conf.setAppName('testing')\n",
    "conf.set('spark.executor.memory', '512m')\n",
    "conf.set('spark.executor.cores', '1')\n",
    "conf.set('spark.cores.max', '1')\n",
    "conf.set('spark.driver.memory', '512m')\n",
    "conf.set('spark.executor.pyspark.memory', '512m')\n",
    "\n",
    "sc = SparkContext(conf=conf) \n",
    "rdd = sc.parallelize([1,2,3])\n",
    "count = rdd.count()\n",
    "\n",
    "print(sc.master)\n",
    "print(count) "
   ]
  }
 ],
 "metadata": {
  "kernelspec": {
   "display_name": "Python 3",
   "language": "python",
   "name": "python3"
  },
  "language_info": {
   "codemirror_mode": {
    "name": "ipython",
    "version": 3
   },
   "file_extension": ".py",
   "mimetype": "text/x-python",
   "name": "python",
   "nbconvert_exporter": "python",
   "pygments_lexer": "ipython3",
   "version": "3.7.6"
  }
 },
 "nbformat": 4,
 "nbformat_minor": 4
}
